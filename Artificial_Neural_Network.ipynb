{
  "nbformat": 4,
  "nbformat_minor": 0,
  "metadata": {
    "colab": {
      "name": "Artificial Neural Network.ipynb",
      "provenance": [],
      "collapsed_sections": []
    },
    "kernelspec": {
      "name": "python3",
      "display_name": "Python 3"
    },
    "language_info": {
      "name": "python"
    }
  },
  "cells": [
    {
      "cell_type": "markdown",
      "source": [
        "Import Librarys"
      ],
      "metadata": {
        "id": "gEZb16Q5d7Hl"
      }
    },
    {
      "cell_type": "code",
      "execution_count": null,
      "metadata": {
        "id": "FSDRuxfe2eeV"
      },
      "outputs": [],
      "source": [
        "import pandas as pd\n",
        "import numpy as np\n"
      ]
    },
    {
      "cell_type": "markdown",
      "source": [
        "Import the Data"
      ],
      "metadata": {
        "id": "s6UOBVR-ghec"
      }
    },
    {
      "cell_type": "code",
      "source": [
        "data = pd.read_csv(\"/content/Churn_Modelling.csv\")"
      ],
      "metadata": {
        "id": "Qt1HhnK2eW63"
      },
      "execution_count": null,
      "outputs": []
    },
    {
      "cell_type": "code",
      "source": [
        "data.head(5)"
      ],
      "metadata": {
        "colab": {
          "base_uri": "https://localhost:8080/",
          "height": 226
        },
        "id": "Jw8V7nO12s9k",
        "outputId": "d6072710-83eb-4d64-d263-858715a1f2c8"
      },
      "execution_count": null,
      "outputs": [
        {
          "output_type": "execute_result",
          "data": {
            "text/html": [
              "<div>\n",
              "<style scoped>\n",
              "    .dataframe tbody tr th:only-of-type {\n",
              "        vertical-align: middle;\n",
              "    }\n",
              "\n",
              "    .dataframe tbody tr th {\n",
              "        vertical-align: top;\n",
              "    }\n",
              "\n",
              "    .dataframe thead th {\n",
              "        text-align: right;\n",
              "    }\n",
              "</style>\n",
              "<table border=\"1\" class=\"dataframe\">\n",
              "  <thead>\n",
              "    <tr style=\"text-align: right;\">\n",
              "      <th></th>\n",
              "      <th>RowNumber</th>\n",
              "      <th>CustomerId</th>\n",
              "      <th>Surname</th>\n",
              "      <th>CreditScore</th>\n",
              "      <th>Geography</th>\n",
              "      <th>Gender</th>\n",
              "      <th>Age</th>\n",
              "      <th>Tenure</th>\n",
              "      <th>Balance</th>\n",
              "      <th>NumOfProducts</th>\n",
              "      <th>HasCrCard</th>\n",
              "      <th>IsActiveMember</th>\n",
              "      <th>EstimatedSalary</th>\n",
              "      <th>Exited</th>\n",
              "    </tr>\n",
              "  </thead>\n",
              "  <tbody>\n",
              "    <tr>\n",
              "      <th>0</th>\n",
              "      <td>1</td>\n",
              "      <td>15634602</td>\n",
              "      <td>Hargrave</td>\n",
              "      <td>619</td>\n",
              "      <td>France</td>\n",
              "      <td>Female</td>\n",
              "      <td>42</td>\n",
              "      <td>2</td>\n",
              "      <td>0.00</td>\n",
              "      <td>1</td>\n",
              "      <td>1</td>\n",
              "      <td>1</td>\n",
              "      <td>101348.88</td>\n",
              "      <td>1</td>\n",
              "    </tr>\n",
              "    <tr>\n",
              "      <th>1</th>\n",
              "      <td>2</td>\n",
              "      <td>15647311</td>\n",
              "      <td>Hill</td>\n",
              "      <td>608</td>\n",
              "      <td>Spain</td>\n",
              "      <td>Female</td>\n",
              "      <td>41</td>\n",
              "      <td>1</td>\n",
              "      <td>83807.86</td>\n",
              "      <td>1</td>\n",
              "      <td>0</td>\n",
              "      <td>1</td>\n",
              "      <td>112542.58</td>\n",
              "      <td>0</td>\n",
              "    </tr>\n",
              "    <tr>\n",
              "      <th>2</th>\n",
              "      <td>3</td>\n",
              "      <td>15619304</td>\n",
              "      <td>Onio</td>\n",
              "      <td>502</td>\n",
              "      <td>France</td>\n",
              "      <td>Female</td>\n",
              "      <td>42</td>\n",
              "      <td>8</td>\n",
              "      <td>159660.80</td>\n",
              "      <td>3</td>\n",
              "      <td>1</td>\n",
              "      <td>0</td>\n",
              "      <td>113931.57</td>\n",
              "      <td>1</td>\n",
              "    </tr>\n",
              "    <tr>\n",
              "      <th>3</th>\n",
              "      <td>4</td>\n",
              "      <td>15701354</td>\n",
              "      <td>Boni</td>\n",
              "      <td>699</td>\n",
              "      <td>France</td>\n",
              "      <td>Female</td>\n",
              "      <td>39</td>\n",
              "      <td>1</td>\n",
              "      <td>0.00</td>\n",
              "      <td>2</td>\n",
              "      <td>0</td>\n",
              "      <td>0</td>\n",
              "      <td>93826.63</td>\n",
              "      <td>0</td>\n",
              "    </tr>\n",
              "    <tr>\n",
              "      <th>4</th>\n",
              "      <td>5</td>\n",
              "      <td>15737888</td>\n",
              "      <td>Mitchell</td>\n",
              "      <td>850</td>\n",
              "      <td>Spain</td>\n",
              "      <td>Female</td>\n",
              "      <td>43</td>\n",
              "      <td>2</td>\n",
              "      <td>125510.82</td>\n",
              "      <td>1</td>\n",
              "      <td>1</td>\n",
              "      <td>1</td>\n",
              "      <td>79084.10</td>\n",
              "      <td>0</td>\n",
              "    </tr>\n",
              "  </tbody>\n",
              "</table>\n",
              "</div>"
            ],
            "text/plain": [
              "   RowNumber  CustomerId   Surname  ...  IsActiveMember EstimatedSalary Exited\n",
              "0          1    15634602  Hargrave  ...               1       101348.88      1\n",
              "1          2    15647311      Hill  ...               1       112542.58      0\n",
              "2          3    15619304      Onio  ...               0       113931.57      1\n",
              "3          4    15701354      Boni  ...               0        93826.63      0\n",
              "4          5    15737888  Mitchell  ...               1        79084.10      0\n",
              "\n",
              "[5 rows x 14 columns]"
            ]
          },
          "metadata": {},
          "execution_count": 5
        }
      ]
    },
    {
      "cell_type": "markdown",
      "source": [
        "Split Dependent and Independent Variable\n"
      ],
      "metadata": {
        "id": "mhbSPQhegpkt"
      }
    },
    {
      "cell_type": "code",
      "source": [
        "x = data.iloc[:,3:13].values\n",
        "y = data.iloc[:,13].values"
      ],
      "metadata": {
        "id": "Xc1qBda42vla"
      },
      "execution_count": null,
      "outputs": []
    },
    {
      "cell_type": "code",
      "source": [
        "print(x.shape)"
      ],
      "metadata": {
        "colab": {
          "base_uri": "https://localhost:8080/"
        },
        "id": "YrK96yb_4V2s",
        "outputId": "53e12fef-0f74-4ece-8233-787d3d04f8a2"
      },
      "execution_count": null,
      "outputs": [
        {
          "output_type": "stream",
          "name": "stdout",
          "text": [
            "(10000, 10)\n"
          ]
        }
      ]
    },
    {
      "cell_type": "markdown",
      "source": [
        "Encoding Catagerical Data"
      ],
      "metadata": {
        "id": "WodItS5xe4iO"
      }
    },
    {
      "cell_type": "code",
      "source": [
        "from sklearn.preprocessing import LabelEncoder,OneHotEncoder\n",
        "le1 = LabelEncoder()\n",
        "x[:,1]= le1.fit_transform(x[:,1])\n",
        "le2 = LabelEncoder()\n",
        "x[:,2]= le2.fit_transform(x[:,2])"
      ],
      "metadata": {
        "id": "ztXWUPo-3ZI7"
      },
      "execution_count": null,
      "outputs": []
    },
    {
      "cell_type": "markdown",
      "source": [
        "Split the Training and Testing Data"
      ],
      "metadata": {
        "id": "fOacXnSyfTOO"
      }
    },
    {
      "cell_type": "code",
      "source": [
        "from sklearn.model_selection import train_test_split\n",
        "x_train,x_test,y_train,y_test = train_test_split(x,y, test_size=0.25, random_state = 0)"
      ],
      "metadata": {
        "id": "eb2A-1Qc4JhH"
      },
      "execution_count": null,
      "outputs": []
    },
    {
      "cell_type": "code",
      "source": [
        "print(\"the shape of x_trin : \", x_train.shape)\n",
        "print(\"the x_test shape is : \",x_test.shape)"
      ],
      "metadata": {
        "colab": {
          "base_uri": "https://localhost:8080/"
        },
        "id": "GfqvSi2C5U_i",
        "outputId": "1da19c3f-852f-44d5-8509-f91715abb277"
      },
      "execution_count": null,
      "outputs": [
        {
          "output_type": "stream",
          "name": "stdout",
          "text": [
            "the shape of x_trin :  (7500, 10)\n",
            "the x_test shape is :  (2500, 10)\n"
          ]
        }
      ]
    },
    {
      "cell_type": "code",
      "source": [
        "print(x_train)"
      ],
      "metadata": {
        "colab": {
          "base_uri": "https://localhost:8080/"
        },
        "id": "WIKYUGrq56Nx",
        "outputId": "49dbc719-4523-4d4c-c74d-02ff2e17ae42"
      },
      "execution_count": null,
      "outputs": [
        {
          "output_type": "stream",
          "name": "stdout",
          "text": [
            "[[579 1 0 ... 0 0 5831.0]\n",
            " [750 0 0 ... 1 0 95611.47]\n",
            " [729 2 0 ... 1 1 42855.97]\n",
            " ...\n",
            " [738 0 1 ... 1 0 181429.87]\n",
            " [590 2 0 ... 1 1 148750.16]\n",
            " [623 1 0 ... 1 0 118855.26]]\n"
          ]
        }
      ]
    },
    {
      "cell_type": "markdown",
      "source": [
        "Scalling the Data"
      ],
      "metadata": {
        "id": "53Pb0bDmfhcu"
      }
    },
    {
      "cell_type": "code",
      "source": [
        "from sklearn.preprocessing import StandardScaler\n",
        "sc= StandardScaler()\n",
        "x_train = sc.fit_transform(x_train)\n",
        "x_test = sc.transform(x_test)"
      ],
      "metadata": {
        "id": "CAVbmenL6Emb"
      },
      "execution_count": null,
      "outputs": []
    },
    {
      "cell_type": "code",
      "source": [
        "print(x_test)"
      ],
      "metadata": {
        "colab": {
          "base_uri": "https://localhost:8080/"
        },
        "id": "zZDi20J36dN-",
        "outputId": "92c629f4-7c9d-4a2b-fc48-f2642bd53a77"
      },
      "execution_count": null,
      "outputs": [
        {
          "output_type": "stream",
          "name": "stdout",
          "text": [
            "[[-0.55025082  0.31266104 -1.08726059 ...  0.64365658  0.96668786\n",
            "   1.61203027]\n",
            " [-1.31185979 -0.89235324 -1.08726059 ...  0.64365658 -1.03446007\n",
            "   0.49626891]\n",
            " [ 0.57157862  1.51767532 -1.08726059 ...  0.64365658  0.96668786\n",
            "  -0.42502785]\n",
            " ...\n",
            " [ 1.95070838 -0.89235324 -1.08726059 ...  0.64365658 -1.03446007\n",
            "  -0.272747  ]\n",
            " [ 0.29369426  0.31266104  0.91974271 ...  0.64365658 -1.03446007\n",
            "  -0.93306558]\n",
            " [ 0.870047   -0.89235324  0.91974271 ... -1.55362351 -1.03446007\n",
            "  -0.47380732]]\n"
          ]
        }
      ]
    },
    {
      "cell_type": "markdown",
      "source": [
        "Importing Keras Librarys"
      ],
      "metadata": {
        "id": "JBlkScIqfpJ5"
      }
    },
    {
      "cell_type": "code",
      "source": [
        "import keras\n",
        "from keras.models import Sequential\n",
        "from keras.layers import Dense"
      ],
      "metadata": {
        "id": "5H8h9b5w6lnY"
      },
      "execution_count": null,
      "outputs": []
    },
    {
      "cell_type": "markdown",
      "source": [
        "Create a object ANN"
      ],
      "metadata": {
        "id": "ljW_I8HXfwc2"
      }
    },
    {
      "cell_type": "code",
      "source": [
        "classifier = Sequential()"
      ],
      "metadata": {
        "id": "sfnUZWNERR9W"
      },
      "execution_count": null,
      "outputs": []
    },
    {
      "cell_type": "markdown",
      "source": [
        "Input Layer"
      ],
      "metadata": {
        "id": "rmn9Ro6yf72q"
      }
    },
    {
      "cell_type": "code",
      "source": [
        "classifier.add(Dense(input_dim=10,kernel_initializer='uniform',activation='relu',units=5))\n"
      ],
      "metadata": {
        "id": "iOVqRjJMRaK_"
      },
      "execution_count": null,
      "outputs": []
    },
    {
      "cell_type": "markdown",
      "source": [
        "Hidden Layer"
      ],
      "metadata": {
        "id": "S8reKWBtf-Og"
      }
    },
    {
      "cell_type": "code",
      "source": [
        "classifier.add(Dense(units=5,kernel_initializer='uniform',activation='relu'))\n"
      ],
      "metadata": {
        "id": "BKhMCHRYf4L8"
      },
      "execution_count": null,
      "outputs": []
    },
    {
      "cell_type": "markdown",
      "source": [
        "Output Layer\n"
      ],
      "metadata": {
        "id": "kYOlesJbgAPm"
      }
    },
    {
      "cell_type": "code",
      "source": [
        "classifier.add(Dense(units=1,kernel_initializer='uniform',activation='sigmoid'))"
      ],
      "metadata": {
        "id": "pBkNxgkSf6Es"
      },
      "execution_count": null,
      "outputs": []
    },
    {
      "cell_type": "markdown",
      "source": [
        "Compile the ANN"
      ],
      "metadata": {
        "id": "glnT-zVFgEmG"
      }
    },
    {
      "cell_type": "code",
      "source": [
        "classifier.compile(loss='binary_crossentropy',optimizer='ADAM',metrics='accuracy')"
      ],
      "metadata": {
        "id": "6IanUo8ySnXD"
      },
      "execution_count": null,
      "outputs": []
    },
    {
      "cell_type": "markdown",
      "source": [
        "Fit the ANN "
      ],
      "metadata": {
        "id": "-wG2tHQcgR7t"
      }
    },
    {
      "cell_type": "code",
      "source": [
        "E=25\n",
        "h=classifier.fit(x_train,y_train,epochs=E,batch_size=10,validation_data=(x_test,y_test))"
      ],
      "metadata": {
        "colab": {
          "base_uri": "https://localhost:8080/"
        },
        "id": "J_kDgqprS6i8",
        "outputId": "dac487ea-ca60-4a29-88b2-756c9de82350"
      },
      "execution_count": null,
      "outputs": [
        {
          "output_type": "stream",
          "name": "stdout",
          "text": [
            "Epoch 1/25\n",
            "750/750 [==============================] - 2s 2ms/step - loss: 0.5076 - accuracy: 0.7961 - val_loss: 0.4398 - val_accuracy: 0.7964\n",
            "Epoch 2/25\n",
            "750/750 [==============================] - 1s 2ms/step - loss: 0.4370 - accuracy: 0.7963 - val_loss: 0.4319 - val_accuracy: 0.7964\n",
            "Epoch 3/25\n",
            "750/750 [==============================] - 1s 2ms/step - loss: 0.4335 - accuracy: 0.7963 - val_loss: 0.4292 - val_accuracy: 0.7964\n",
            "Epoch 4/25\n",
            "750/750 [==============================] - 1s 2ms/step - loss: 0.4304 - accuracy: 0.7963 - val_loss: 0.4250 - val_accuracy: 0.7964\n",
            "Epoch 5/25\n",
            "750/750 [==============================] - 1s 2ms/step - loss: 0.4257 - accuracy: 0.8157 - val_loss: 0.4175 - val_accuracy: 0.8236\n",
            "Epoch 6/25\n",
            "750/750 [==============================] - 1s 2ms/step - loss: 0.4207 - accuracy: 0.8252 - val_loss: 0.4141 - val_accuracy: 0.8316\n",
            "Epoch 7/25\n",
            "750/750 [==============================] - 1s 2ms/step - loss: 0.4169 - accuracy: 0.8291 - val_loss: 0.4095 - val_accuracy: 0.8356\n",
            "Epoch 8/25\n",
            "750/750 [==============================] - 1s 2ms/step - loss: 0.4137 - accuracy: 0.8312 - val_loss: 0.4062 - val_accuracy: 0.8388\n",
            "Epoch 9/25\n",
            "750/750 [==============================] - 1s 2ms/step - loss: 0.4118 - accuracy: 0.8344 - val_loss: 0.4047 - val_accuracy: 0.8400\n",
            "Epoch 10/25\n",
            "750/750 [==============================] - 1s 2ms/step - loss: 0.4099 - accuracy: 0.8324 - val_loss: 0.4031 - val_accuracy: 0.8388\n",
            "Epoch 11/25\n",
            "750/750 [==============================] - 1s 2ms/step - loss: 0.4082 - accuracy: 0.8341 - val_loss: 0.4030 - val_accuracy: 0.8420\n",
            "Epoch 12/25\n",
            "750/750 [==============================] - 1s 2ms/step - loss: 0.4070 - accuracy: 0.8343 - val_loss: 0.4019 - val_accuracy: 0.8408\n",
            "Epoch 13/25\n",
            "750/750 [==============================] - 1s 2ms/step - loss: 0.4064 - accuracy: 0.8341 - val_loss: 0.4009 - val_accuracy: 0.8408\n",
            "Epoch 14/25\n",
            "750/750 [==============================] - 1s 2ms/step - loss: 0.4055 - accuracy: 0.8344 - val_loss: 0.3998 - val_accuracy: 0.8428\n",
            "Epoch 15/25\n",
            "750/750 [==============================] - 1s 2ms/step - loss: 0.4049 - accuracy: 0.8332 - val_loss: 0.3990 - val_accuracy: 0.8380\n",
            "Epoch 16/25\n",
            "750/750 [==============================] - 1s 2ms/step - loss: 0.4039 - accuracy: 0.8344 - val_loss: 0.4003 - val_accuracy: 0.8392\n",
            "Epoch 17/25\n",
            "750/750 [==============================] - 1s 2ms/step - loss: 0.4037 - accuracy: 0.8321 - val_loss: 0.3994 - val_accuracy: 0.8396\n",
            "Epoch 18/25\n",
            "750/750 [==============================] - 1s 2ms/step - loss: 0.4037 - accuracy: 0.8320 - val_loss: 0.3985 - val_accuracy: 0.8428\n",
            "Epoch 19/25\n",
            "750/750 [==============================] - 1s 2ms/step - loss: 0.4037 - accuracy: 0.8321 - val_loss: 0.3987 - val_accuracy: 0.8416\n",
            "Epoch 20/25\n",
            "750/750 [==============================] - 1s 2ms/step - loss: 0.4029 - accuracy: 0.8332 - val_loss: 0.3979 - val_accuracy: 0.8416\n",
            "Epoch 21/25\n",
            "750/750 [==============================] - 1s 2ms/step - loss: 0.4029 - accuracy: 0.8333 - val_loss: 0.3977 - val_accuracy: 0.8412\n",
            "Epoch 22/25\n",
            "750/750 [==============================] - 1s 2ms/step - loss: 0.4022 - accuracy: 0.8320 - val_loss: 0.3981 - val_accuracy: 0.8392\n",
            "Epoch 23/25\n",
            "750/750 [==============================] - 1s 2ms/step - loss: 0.4022 - accuracy: 0.8324 - val_loss: 0.3973 - val_accuracy: 0.8428\n",
            "Epoch 24/25\n",
            "750/750 [==============================] - 1s 2ms/step - loss: 0.4020 - accuracy: 0.8332 - val_loss: 0.3968 - val_accuracy: 0.8404\n",
            "Epoch 25/25\n",
            "750/750 [==============================] - 1s 2ms/step - loss: 0.4021 - accuracy: 0.8324 - val_loss: 0.3960 - val_accuracy: 0.8420\n"
          ]
        }
      ]
    },
    {
      "cell_type": "code",
      "source": [
        "y_pred = classifier.predict(x_train)\n",
        "print(y_pred)"
      ],
      "metadata": {
        "colab": {
          "base_uri": "https://localhost:8080/"
        },
        "id": "0pVRdpfjc3Jc",
        "outputId": "9292e839-7bf7-47f4-dc5d-2c957406809a"
      },
      "execution_count": null,
      "outputs": [
        {
          "output_type": "stream",
          "name": "stdout",
          "text": [
            "[[0.26528436]\n",
            " [0.06254041]\n",
            " [0.08661419]\n",
            " ...\n",
            " [0.16297638]\n",
            " [0.07864821]\n",
            " [0.78118485]]\n"
          ]
        }
      ]
    },
    {
      "cell_type": "code",
      "source": [
        "import matplotlib.pyplot as plt\n",
        "plt.plot(range(E), h.history['accuracy'], label = 'Training')\n",
        "plt.plot(range(E), h.history['val_accuracy'], label = 'Validation')\n",
        "plt.legend()\n",
        "plt.show()"
      ],
      "metadata": {
        "colab": {
          "base_uri": "https://localhost:8080/",
          "height": 265
        },
        "id": "Zbtdv5b2Ud__",
        "outputId": "2e08442a-91d5-45f5-f8d0-82f70f0db200"
      },
      "execution_count": null,
      "outputs": [
        {
          "output_type": "display_data",
          "data": {
            "image/png": "[encoded data removed]",
            "text/plain": [
              "<Figure size 432x288 with 1 Axes>"
            ]
          },
          "metadata": {
            "needs_background": "light"
          }
        }
      ]
    }
  ]
}